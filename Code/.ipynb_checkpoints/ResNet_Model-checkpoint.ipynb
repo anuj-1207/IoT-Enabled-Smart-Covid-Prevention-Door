{
 "cells": [
  {
   "cell_type": "code",
   "execution_count": 1,
   "metadata": {
    "id": "scQ-f2BSYdsM"
   },
   "outputs": [],
   "source": [
    "import numpy as np\n",
    "import pandas as pd\n",
    "import seaborn as sns\n",
    "import matplotlib.pyplot as plt\n",
    "\n",
    "import cv2\n",
    "import os\n",
    "\n",
    "import tensorflow as tf\n",
    "from tensorflow import keras\n",
    "from tensorflow.keras import applications, optimizers, Input, Model\n",
    "from tensorflow.keras.models import Sequential, model_from_json\n",
    "from tensorflow.keras.layers import Dropout, Dense, Flatten, GlobalAveragePooling2D\n",
    "from tensorflow.keras.preprocessing.image import ImageDataGenerator"
   ]
  },
  {
   "cell_type": "code",
   "execution_count": 2,
   "metadata": {
    "id": "6LuSpBGcYv_d"
   },
   "outputs": [],
   "source": [
    "train_path = \"../Dataset/Training_Set/\"\n",
    "validation_path = \"../Dataset/Validation_Set/\"\n",
    "test_path = \"../Dataset/Test_Set/\""
   ]
  },
  {
   "cell_type": "code",
   "execution_count": 3,
   "metadata": {
    "id": "B-YS0zznYwB4"
   },
   "outputs": [],
   "source": [
    "img_height = 224\n",
    "img_width = 224\n",
    "batch_size = 64"
   ]
  },
  {
   "cell_type": "code",
   "execution_count": 4,
   "metadata": {
    "id": "RqyJSZDIYwEI"
   },
   "outputs": [],
   "source": [
    "train_datagen = ImageDataGenerator(rescale=1./255, shear_range=0.2, zoom_range=0.2, rotation_range=40, horizontal_flip=True)\n",
    "validation_datagen = ImageDataGenerator(rescale=1./255)\n",
    "test_datagen = ImageDataGenerator(rescale=1./255)"
   ]
  },
  {
   "cell_type": "code",
   "execution_count": 5,
   "metadata": {
    "colab": {
     "base_uri": "https://localhost:8080/"
    },
    "id": "Oo1aM11AYwGU",
    "outputId": "814eafa7-da02-4bff-b1d7-1847d3050eb5"
   },
   "outputs": [
    {
     "name": "stdout",
     "output_type": "stream",
     "text": [
      "Found 5953 images belonging to 2 classes.\n",
      "Found 800 images belonging to 2 classes.\n",
      "Found 800 images belonging to 2 classes.\n"
     ]
    }
   ],
   "source": [
    "train_generator = train_datagen.flow_from_directory(train_path, target_size=(img_height, img_width), batch_size=batch_size, shuffle=True, class_mode=\"categorical\")\n",
    "validation_generator = validation_datagen.flow_from_directory(validation_path, target_size=(img_height, img_width), class_mode=\"categorical\")\n",
    "test_generator = test_datagen.flow_from_directory(test_path, target_size=(img_height, img_width), class_mode=\"categorical\", batch_size = 1)"
   ]
  },
  {
   "cell_type": "code",
   "execution_count": 6,
   "metadata": {
    "colab": {
     "base_uri": "https://localhost:8080/"
    },
    "id": "bHFkPjCzYwIp",
    "outputId": "f394a7a2-6e30-4f5f-9b17-e22ff7183c90"
   },
   "outputs": [
    {
     "name": "stdout",
     "output_type": "stream",
     "text": [
      "Model: \"functional_1\"\n",
      "_________________________________________________________________\n",
      "Layer (type)                 Output Shape              Param #   \n",
      "=================================================================\n",
      "input_2 (InputLayer)         [(None, 224, 224, 3)]     0         \n",
      "_________________________________________________________________\n",
      "resnet50 (Functional)        (None, 7, 7, 2048)        23587712  \n",
      "_________________________________________________________________\n",
      "global_average_pooling2d (Gl (None, 2048)              0         \n",
      "_________________________________________________________________\n",
      "flatten (Flatten)            (None, 2048)              0         \n",
      "_________________________________________________________________\n",
      "dense (Dense)                (None, 256)               524544    \n",
      "_________________________________________________________________\n",
      "dropout (Dropout)            (None, 256)               0         \n",
      "_________________________________________________________________\n",
      "dense_1 (Dense)              (None, 64)                16448     \n",
      "_________________________________________________________________\n",
      "dropout_1 (Dropout)          (None, 64)                0         \n",
      "_________________________________________________________________\n",
      "dense_2 (Dense)              (None, 16)                1040      \n",
      "_________________________________________________________________\n",
      "dropout_2 (Dropout)          (None, 16)                0         \n",
      "_________________________________________________________________\n",
      "dense_3 (Dense)              (None, 2)                 34        \n",
      "=================================================================\n",
      "Total params: 24,129,778\n",
      "Trainable params: 542,066\n",
      "Non-trainable params: 23,587,712\n",
      "_________________________________________________________________\n"
     ]
    }
   ],
   "source": [
    "basemodel = applications.resnet50.ResNet50(weights='imagenet',input_shape=(img_height, img_width, 3), include_top=False)\n",
    "\n",
    "basemodel.trainable  = False\n",
    "\n",
    "inputs = Input(shape=(img_height, img_width, 3))\n",
    "\n",
    "x = basemodel(inputs, training = False)\n",
    "\n",
    "x = GlobalAveragePooling2D()(x)\n",
    "\n",
    "x = Flatten()(x)\n",
    "x = Dense(256, activation='relu')(x)\n",
    "x = Dropout(0.2)(x)\n",
    "x = Dense(64, activation='relu')(x)\n",
    "x = Dropout(0.2)(x)\n",
    "x = Dense(16, activation='relu')(x)\n",
    "x = Dropout(0.2)(x)\n",
    "output = Dense(2, activation='softmax')(x)\n",
    "\n",
    "model = Model(inputs, output)\n",
    "\n",
    "model.compile(optimizer = \"adam\", loss = \"categorical_crossentropy\", metrics = [\"accuracy\"])\n",
    "\n",
    "model.summary()"
   ]
  },
  {
   "cell_type": "code",
   "execution_count": 7,
   "metadata": {
    "colab": {
     "base_uri": "https://localhost:8080/"
    },
    "id": "zDwh9Oi9bTg5",
    "outputId": "e9ac826f-413b-4d8e-f7e5-bb7f51e858de"
   },
   "outputs": [
    {
     "name": "stdout",
     "output_type": "stream",
     "text": [
      "Epoch 1/5\n",
      "36/94 [==========>...................] - ETA: 2:12 - loss: 0.7113 - accuracy: 0.4948"
     ]
    },
    {
     "name": "stderr",
     "output_type": "stream",
     "text": [
      "C:\\Anaconda3\\lib\\site-packages\\PIL\\Image.py:962: UserWarning: Palette images with Transparency expressed in bytes should be converted to RGBA images\n",
      "  warnings.warn(\n"
     ]
    },
    {
     "name": "stdout",
     "output_type": "stream",
     "text": [
      "94/94 [==============================] - 248s 3s/step - loss: 0.7031 - accuracy: 0.5026 - val_loss: 0.6894 - val_accuracy: 0.5050\n",
      "Epoch 2/5\n",
      "94/94 [==============================] - 246s 3s/step - loss: 0.6915 - accuracy: 0.5374 - val_loss: 0.6688 - val_accuracy: 0.6037\n",
      "Epoch 3/5\n",
      "94/94 [==============================] - 239s 3s/step - loss: 0.6791 - accuracy: 0.5661 - val_loss: 0.6681 - val_accuracy: 0.5938\n",
      "Epoch 4/5\n",
      "94/94 [==============================] - 239s 3s/step - loss: 0.6775 - accuracy: 0.5769 - val_loss: 0.6575 - val_accuracy: 0.6288\n",
      "Epoch 5/5\n",
      "94/94 [==============================] - 244s 3s/step - loss: 0.6713 - accuracy: 0.5925 - val_loss: 0.6528 - val_accuracy: 0.6400\n"
     ]
    }
   ],
   "source": [
    "history = model.fit(train_generator, epochs=5, validation_data=validation_generator)"
   ]
  },
  {
   "cell_type": "code",
   "execution_count": 8,
   "metadata": {
    "colab": {
     "base_uri": "https://localhost:8080/",
     "height": 295
    },
    "id": "clthpmCIghOW",
    "outputId": "c5971d43-fe8b-46f8-f02c-c54ff41c594d"
   },
   "outputs": [
    {
     "data": {
      "image/png": "[encoded data removed]",
      "text/plain": [
       "<Figure size 432x288 with 1 Axes>"
      ]
     },
     "metadata": {
      "needs_background": "light"
     },
     "output_type": "display_data"
    }
   ],
   "source": [
    "plt.plot(history.history['accuracy'])\n",
    "plt.plot(history.history['val_accuracy'])\n",
    "plt.title('model accuracy')\n",
    "plt.ylabel('accuracy')\n",
    "plt.xlabel('epoch')\n",
    "plt.legend(['train', 'val'], loc='upper left')\n",
    "plt.show()"
   ]
  },
  {
   "cell_type": "code",
   "execution_count": 9,
   "metadata": {
    "colab": {
     "base_uri": "https://localhost:8080/",
     "height": 295
    },
    "id": "2_EfYMBvghQq",
    "outputId": "69aee001-c352-468b-95f7-ed3ec397d56d"
   },
   "outputs": [
    {
     "data": {
      "image/png": "[encoded data removed]",
      "text/plain": [
       "<Figure size 432x288 with 1 Axes>"
      ]
     },
     "metadata": {
      "needs_background": "light"
     },
     "output_type": "display_data"
    }
   ],
   "source": [
    "plt.plot(history.history['loss'])\n",
    "plt.plot(history.history['val_loss'])\n",
    "plt.title('model loss')\n",
    "plt.ylabel('loss')\n",
    "plt.xlabel('epoch')\n",
    "plt.legend(['train', 'val'], loc='upper left')\n",
    "plt.show()"
   ]
  },
  {
   "cell_type": "code",
   "execution_count": 10,
   "metadata": {
    "id": "VveSN0W3Knpe"
   },
   "outputs": [
    {
     "name": "stdout",
     "output_type": "stream",
     "text": [
      "Model: \"functional_1\"\n",
      "_________________________________________________________________\n",
      "Layer (type)                 Output Shape              Param #   \n",
      "=================================================================\n",
      "input_2 (InputLayer)         [(None, 224, 224, 3)]     0         \n",
      "_________________________________________________________________\n",
      "resnet50 (Functional)        (None, 7, 7, 2048)        23587712  \n",
      "_________________________________________________________________\n",
      "global_average_pooling2d (Gl (None, 2048)              0         \n",
      "_________________________________________________________________\n",
      "flatten (Flatten)            (None, 2048)              0         \n",
      "_________________________________________________________________\n",
      "dense (Dense)                (None, 256)               524544    \n",
      "_________________________________________________________________\n",
      "dropout (Dropout)            (None, 256)               0         \n",
      "_________________________________________________________________\n",
      "dense_1 (Dense)              (None, 64)                16448     \n",
      "_________________________________________________________________\n",
      "dropout_1 (Dropout)          (None, 64)                0         \n",
      "_________________________________________________________________\n",
      "dense_2 (Dense)              (None, 16)                1040      \n",
      "_________________________________________________________________\n",
      "dropout_2 (Dropout)          (None, 16)                0         \n",
      "_________________________________________________________________\n",
      "dense_3 (Dense)              (None, 2)                 34        \n",
      "=================================================================\n",
      "Total params: 24,129,778\n",
      "Trainable params: 24,076,658\n",
      "Non-trainable params: 53,120\n",
      "_________________________________________________________________\n"
     ]
    }
   ],
   "source": [
    "model.trainable = True\n",
    "\n",
    "model.compile(optimizer = keras.optimizers.Adam(learning_rate=1e-5), loss = \"categorical_crossentropy\", metrics = [\"accuracy\"])\n",
    "\n",
    "model.summary()"
   ]
  },
  {
   "cell_type": "code",
   "execution_count": 11,
   "metadata": {
    "colab": {
     "base_uri": "https://localhost:8080/"
    },
    "id": "xI8uNKE2KnxH",
    "outputId": "f5c7295b-7b84-4476-842d-018c19cee97d"
   },
   "outputs": [
    {
     "name": "stdout",
     "output_type": "stream",
     "text": [
      "Epoch 1/10\n",
      "94/94 [==============================] - 1084s 12s/step - loss: 0.6956 - accuracy: 0.5144 - val_loss: 0.6847 - val_accuracy: 0.5750\n",
      "Epoch 2/10\n",
      "94/94 [==============================] - 1023s 11s/step - loss: 0.6878 - accuracy: 0.5454 - val_loss: 0.6843 - val_accuracy: 0.5650\n",
      "Epoch 3/10\n",
      "94/94 [==============================] - 898s 10s/step - loss: 0.6250 - accuracy: 0.6447 - val_loss: 0.6548 - val_accuracy: 0.6925\n",
      "Epoch 4/10\n",
      "94/94 [==============================] - 879s 9s/step - loss: 0.5689 - accuracy: 0.7109 - val_loss: 0.4024 - val_accuracy: 0.8300\n",
      "Epoch 5/10\n",
      "94/94 [==============================] - 911s 10s/step - loss: 0.5144 - accuracy: 0.7563 - val_loss: 0.5116 - val_accuracy: 0.7837\n",
      "Epoch 6/10\n",
      "94/94 [==============================] - 953s 10s/step - loss: 0.4071 - accuracy: 0.8208 - val_loss: 0.2604 - val_accuracy: 0.8963\n",
      "Epoch 7/10\n",
      "94/94 [==============================] - 927s 10s/step - loss: 0.2858 - accuracy: 0.8836 - val_loss: 0.1814 - val_accuracy: 0.9275\n",
      "Epoch 8/10\n",
      "94/94 [==============================] - 904s 10s/step - loss: 0.2846 - accuracy: 0.8858 - val_loss: 0.2070 - val_accuracy: 0.9112\n",
      "Epoch 9/10\n",
      "94/94 [==============================] - 912s 10s/step - loss: 0.2396 - accuracy: 0.9017 - val_loss: 0.1451 - val_accuracy: 0.9450\n",
      "Epoch 10/10\n",
      "94/94 [==============================] - 935s 10s/step - loss: 0.2112 - accuracy: 0.9187 - val_loss: 0.1812 - val_accuracy: 0.9212\n"
     ]
    }
   ],
   "source": [
    "history1 = model.fit(train_generator, epochs=10, validation_data=validation_generator)"
   ]
  },
  {
   "cell_type": "code",
   "execution_count": 12,
   "metadata": {
    "colab": {
     "base_uri": "https://localhost:8080/",
     "height": 295
    },
    "id": "6lMC1gxd08pi",
    "outputId": "b766b25f-b647-413d-dd85-b75ba155b3cc"
   },
   "outputs": [
    {
     "data": {
      "image/png": "[encoded data removed]",
      "text/plain": [
       "<Figure size 432x288 with 1 Axes>"
      ]
     },
     "metadata": {
      "needs_background": "light"
     },
     "output_type": "display_data"
    }
   ],
   "source": [
    "plt.plot(history1.history['accuracy'])\n",
    "plt.plot(history1.history['val_accuracy'])\n",
    "plt.title('model accuracy')\n",
    "plt.ylabel('accuracy')\n",
    "plt.xlabel('epoch')\n",
    "plt.legend(['train', 'val'], loc='upper left')\n",
    "plt.show()"
   ]
  },
  {
   "cell_type": "code",
   "execution_count": 13,
   "metadata": {
    "colab": {
     "base_uri": "https://localhost:8080/",
     "height": 295
    },
    "id": "5IdSpnwCwzIh",
    "outputId": "c6f16689-be1c-4be0-da95-bff4362c90ab"
   },
   "outputs": [
    {
     "data": {
      "image/png": "[encoded data removed]",
      "text/plain": [
       "<Figure size 432x288 with 1 Axes>"
      ]
     },
     "metadata": {
      "needs_background": "light"
     },
     "output_type": "display_data"
    }
   ],
   "source": [
    "plt.plot(history1.history['loss'])\n",
    "plt.plot(history1.history['val_loss'])\n",
    "plt.title('model loss')\n",
    "plt.ylabel('loss')\n",
    "plt.xlabel('epoch')\n",
    "plt.legend(['train', 'val'], loc='upper left')\n",
    "plt.show()"
   ]
  },
  {
   "cell_type": "code",
   "execution_count": 14,
   "metadata": {
    "id": "_jRUHKfSj_y0"
   },
   "outputs": [],
   "source": [
    "model_json = model.to_json()\n",
    "\n",
    "# with open(\"../Model/model_json.json\", \"w\") as json_file:\n",
    "#     json_file.write(model_json)\n",
    "\n",
    "# model.save_weights(\"../Model/model_weights.h5\")\n",
    "\n",
    "# model.save('../Model/model_hdf5.hdf5')\n",
    "\n",
    "model.save(\"../Model/model_resnet50.h5\")"
   ]
  },
  {
   "cell_type": "code",
   "execution_count": 15,
   "metadata": {},
   "outputs": [],
   "source": [
    "correct = 0\n",
    "for i in range(800):\n",
    "    feature = test_generator[i][0]\n",
    "    label = np.argmax(np.round(test_generator[i][1]))\n",
    "    pred = np.argmax(np.round(model.predict(feature)))\n",
    "    if pred == label:\n",
    "        correct = correct + 1"
   ]
  },
  {
   "cell_type": "code",
   "execution_count": 16,
   "metadata": {},
   "outputs": [
    {
     "data": {
      "text/plain": [
       "92.5"
      ]
     },
     "execution_count": 16,
     "metadata": {},
     "output_type": "execute_result"
    }
   ],
   "source": [
    "correct * 100 / 800"
   ]
  },
  {
   "cell_type": "code",
   "execution_count": null,
   "metadata": {},
   "outputs": [],
   "source": []
  }
 ],
 "metadata": {
  "accelerator": "GPU",
  "colab": {
   "collapsed_sections": [],
   "name": "IOT Master1.ipynb",
   "provenance": []
  },
  "kernelspec": {
   "display_name": "Python 3",
   "language": "python",
   "name": "python3"
  },
  "language_info": {
   "codemirror_mode": {
    "name": "ipython",
    "version": 3
   },
   "file_extension": ".py",
   "mimetype": "text/x-python",
   "name": "python",
   "nbconvert_exporter": "python",
   "pygments_lexer": "ipython3",
   "version": "3.8.8"
  }
 },
 "nbformat": 4,
 "nbformat_minor": 1
}

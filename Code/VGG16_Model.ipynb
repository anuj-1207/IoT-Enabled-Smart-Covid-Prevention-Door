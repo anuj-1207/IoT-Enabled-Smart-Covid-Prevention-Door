{
 "cells": [
  {
   "cell_type": "code",
   "execution_count": 1,
   "metadata": {
    "id": "scQ-f2BSYdsM"
   },
   "outputs": [],
   "source": [
    "import numpy as np\n",
    "import pandas as pd\n",
    "import seaborn as sns\n",
    "import matplotlib.pyplot as plt\n",
    "\n",
    "import cv2\n",
    "import os\n",
    "\n",
    "import tensorflow as tf\n",
    "from tensorflow import keras\n",
    "from tensorflow.keras import applications, optimizers, Input, Model\n",
    "from tensorflow.keras.models import Sequential, model_from_json\n",
    "from tensorflow.keras.layers import Dropout, Dense, Flatten, GlobalAveragePooling2D\n",
    "from tensorflow.keras.preprocessing.image import ImageDataGenerator"
   ]
  },
  {
   "cell_type": "code",
   "execution_count": 2,
   "metadata": {
    "id": "6LuSpBGcYv_d"
   },
   "outputs": [],
   "source": [
    "train_path = \"../Dataset/Training_Set/\"\n",
    "validation_path = \"../Dataset/Validation_Set/\"\n",
    "test_path = \"../Dataset/Test_Set/\""
   ]
  },
  {
   "cell_type": "code",
   "execution_count": 3,
   "metadata": {
    "id": "B-YS0zznYwB4"
   },
   "outputs": [],
   "source": [
    "img_height = 224\n",
    "img_width = 224\n",
    "batch_size = 64"
   ]
  },
  {
   "cell_type": "code",
   "execution_count": 4,
   "metadata": {
    "id": "RqyJSZDIYwEI"
   },
   "outputs": [],
   "source": [
    "train_datagen = ImageDataGenerator(rescale=1./255, shear_range=0.2, zoom_range=0.2, rotation_range=40, horizontal_flip=True)\n",
    "validation_datagen = ImageDataGenerator(rescale=1./255)\n",
    "test_datagen = ImageDataGenerator(rescale=1./255)"
   ]
  },
  {
   "cell_type": "code",
   "execution_count": 5,
   "metadata": {
    "colab": {
     "base_uri": "https://localhost:8080/"
    },
    "id": "Oo1aM11AYwGU",
    "outputId": "814eafa7-da02-4bff-b1d7-1847d3050eb5"
   },
   "outputs": [
    {
     "name": "stdout",
     "output_type": "stream",
     "text": [
      "Found 5953 images belonging to 2 classes.\n",
      "Found 800 images belonging to 2 classes.\n",
      "Found 800 images belonging to 2 classes.\n"
     ]
    }
   ],
   "source": [
    "train_generator = train_datagen.flow_from_directory(train_path, target_size=(img_height, img_width), batch_size=batch_size, shuffle=True, class_mode=\"categorical\")\n",
    "validation_generator = validation_datagen.flow_from_directory(validation_path, target_size=(img_height, img_width), class_mode=\"categorical\")\n",
    "test_generator = test_datagen.flow_from_directory(test_path, target_size=(img_height, img_width), class_mode=\"categorical\", batch_size = 1)"
   ]
  },
  {
   "cell_type": "code",
   "execution_count": 6,
   "metadata": {
    "colab": {
     "base_uri": "https://localhost:8080/"
    },
    "id": "bHFkPjCzYwIp",
    "outputId": "f394a7a2-6e30-4f5f-9b17-e22ff7183c90"
   },
   "outputs": [
    {
     "name": "stdout",
     "output_type": "stream",
     "text": [
      "Model: \"functional_1\"\n",
      "_________________________________________________________________\n",
      "Layer (type)                 Output Shape              Param #   \n",
      "=================================================================\n",
      "input_2 (InputLayer)         [(None, 224, 224, 3)]     0         \n",
      "_________________________________________________________________\n",
      "vgg16 (Functional)           (None, 7, 7, 512)         14714688  \n",
      "_________________________________________________________________\n",
      "global_average_pooling2d (Gl (None, 512)               0         \n",
      "_________________________________________________________________\n",
      "flatten (Flatten)            (None, 512)               0         \n",
      "_________________________________________________________________\n",
      "dense (Dense)                (None, 256)               131328    \n",
      "_________________________________________________________________\n",
      "dropout (Dropout)            (None, 256)               0         \n",
      "_________________________________________________________________\n",
      "dense_1 (Dense)              (None, 64)                16448     \n",
      "_________________________________________________________________\n",
      "dropout_1 (Dropout)          (None, 64)                0         \n",
      "_________________________________________________________________\n",
      "dense_2 (Dense)              (None, 16)                1040      \n",
      "_________________________________________________________________\n",
      "dropout_2 (Dropout)          (None, 16)                0         \n",
      "_________________________________________________________________\n",
      "dense_3 (Dense)              (None, 2)                 34        \n",
      "=================================================================\n",
      "Total params: 14,863,538\n",
      "Trainable params: 148,850\n",
      "Non-trainable params: 14,714,688\n",
      "_________________________________________________________________\n"
     ]
    }
   ],
   "source": [
    "basemodel = applications.vgg16.VGG16(weights='imagenet',input_shape=(img_height, img_width, 3), include_top=False)\n",
    "\n",
    "basemodel.trainable  = False\n",
    "\n",
    "inputs = Input(shape=(img_height, img_width, 3))\n",
    "\n",
    "x = basemodel(inputs, training = False)\n",
    "\n",
    "x = GlobalAveragePooling2D()(x)\n",
    "\n",
    "x = Flatten()(x)\n",
    "x = Dense(256, activation='relu')(x)\n",
    "x = Dropout(0.2)(x)\n",
    "x = Dense(64, activation='relu')(x)\n",
    "x = Dropout(0.2)(x)\n",
    "x = Dense(16, activation='relu')(x)\n",
    "x = Dropout(0.2)(x)\n",
    "output = Dense(2, activation='softmax')(x)\n",
    "\n",
    "model = Model(inputs, output)\n",
    "\n",
    "model.compile(optimizer = \"adam\", loss = \"categorical_crossentropy\", metrics = [\"accuracy\"])\n",
    "\n",
    "model.summary()"
   ]
  },
  {
   "cell_type": "code",
   "execution_count": 7,
   "metadata": {
    "colab": {
     "base_uri": "https://localhost:8080/"
    },
    "id": "zDwh9Oi9bTg5",
    "outputId": "e9ac826f-413b-4d8e-f7e5-bb7f51e858de"
   },
   "outputs": [
    {
     "name": "stdout",
     "output_type": "stream",
     "text": [
      "Epoch 1/5\n",
      "70/94 [=====================>........] - ETA: 1:32 - loss: 0.5054 - accuracy: 0.7442"
     ]
    },
    {
     "name": "stderr",
     "output_type": "stream",
     "text": [
      "C:\\Anaconda3\\lib\\site-packages\\PIL\\Image.py:962: UserWarning: Palette images with Transparency expressed in bytes should be converted to RGBA images\n",
      "  warnings.warn(\n"
     ]
    },
    {
     "name": "stdout",
     "output_type": "stream",
     "text": [
      "94/94 [==============================] - 414s 4s/step - loss: 0.4683 - accuracy: 0.7729 - val_loss: 0.2301 - val_accuracy: 0.9150\n",
      "Epoch 2/5\n",
      "94/94 [==============================] - 420s 4s/step - loss: 0.2584 - accuracy: 0.9009 - val_loss: 0.1349 - val_accuracy: 0.9488\n",
      "Epoch 3/5\n",
      "94/94 [==============================] - 410s 4s/step - loss: 0.2823 - accuracy: 0.8888 - val_loss: 0.1635 - val_accuracy: 0.9388\n",
      "Epoch 4/5\n",
      "94/94 [==============================] - 391s 4s/step - loss: 0.1933 - accuracy: 0.9249 - val_loss: 0.1257 - val_accuracy: 0.9588\n",
      "Epoch 5/5\n",
      "94/94 [==============================] - 388s 4s/step - loss: 0.1751 - accuracy: 0.9347 - val_loss: 0.1091 - val_accuracy: 0.9600\n"
     ]
    }
   ],
   "source": [
    "history = model.fit(train_generator, epochs=5, validation_data=validation_generator)"
   ]
  },
  {
   "cell_type": "code",
   "execution_count": 8,
   "metadata": {
    "colab": {
     "base_uri": "https://localhost:8080/",
     "height": 295
    },
    "id": "clthpmCIghOW",
    "outputId": "c5971d43-fe8b-46f8-f02c-c54ff41c594d"
   },
   "outputs": [
    {
     "data": {
      "image/png": "[encoded data removed]",
      "text/plain": [
       "<Figure size 432x288 with 1 Axes>"
      ]
     },
     "metadata": {
      "needs_background": "light"
     },
     "output_type": "display_data"
    }
   ],
   "source": [
    "plt.plot(history.history['accuracy'])\n",
    "plt.plot(history.history['val_accuracy'])\n",
    "plt.title('model accuracy')\n",
    "plt.ylabel('accuracy')\n",
    "plt.xlabel('epoch')\n",
    "plt.legend(['train', 'val'], loc='upper left')\n",
    "plt.show()"
   ]
  },
  {
   "cell_type": "code",
   "execution_count": 9,
   "metadata": {
    "colab": {
     "base_uri": "https://localhost:8080/",
     "height": 295
    },
    "id": "2_EfYMBvghQq",
    "outputId": "69aee001-c352-468b-95f7-ed3ec397d56d"
   },
   "outputs": [
    {
     "data": {
      "image/png": "[encoded data removed]",
      "text/plain": [
       "<Figure size 432x288 with 1 Axes>"
      ]
     },
     "metadata": {
      "needs_background": "light"
     },
     "output_type": "display_data"
    }
   ],
   "source": [
    "plt.plot(history.history['loss'])\n",
    "plt.plot(history.history['val_loss'])\n",
    "plt.title('model loss')\n",
    "plt.ylabel('loss')\n",
    "plt.xlabel('epoch')\n",
    "plt.legend(['train', 'val'], loc='upper left')\n",
    "plt.show()"
   ]
  },
  {
   "cell_type": "code",
   "execution_count": 10,
   "metadata": {
    "id": "VveSN0W3Knpe"
   },
   "outputs": [
    {
     "name": "stdout",
     "output_type": "stream",
     "text": [
      "Model: \"functional_1\"\n",
      "_________________________________________________________________\n",
      "Layer (type)                 Output Shape              Param #   \n",
      "=================================================================\n",
      "input_2 (InputLayer)         [(None, 224, 224, 3)]     0         \n",
      "_________________________________________________________________\n",
      "vgg16 (Functional)           (None, 7, 7, 512)         14714688  \n",
      "_________________________________________________________________\n",
      "global_average_pooling2d (Gl (None, 512)               0         \n",
      "_________________________________________________________________\n",
      "flatten (Flatten)            (None, 512)               0         \n",
      "_________________________________________________________________\n",
      "dense (Dense)                (None, 256)               131328    \n",
      "_________________________________________________________________\n",
      "dropout (Dropout)            (None, 256)               0         \n",
      "_________________________________________________________________\n",
      "dense_1 (Dense)              (None, 64)                16448     \n",
      "_________________________________________________________________\n",
      "dropout_1 (Dropout)          (None, 64)                0         \n",
      "_________________________________________________________________\n",
      "dense_2 (Dense)              (None, 16)                1040      \n",
      "_________________________________________________________________\n",
      "dropout_2 (Dropout)          (None, 16)                0         \n",
      "_________________________________________________________________\n",
      "dense_3 (Dense)              (None, 2)                 34        \n",
      "=================================================================\n",
      "Total params: 14,863,538\n",
      "Trainable params: 14,863,538\n",
      "Non-trainable params: 0\n",
      "_________________________________________________________________\n"
     ]
    }
   ],
   "source": [
    "model.trainable = True\n",
    "\n",
    "model.compile(optimizer = keras.optimizers.Adam(learning_rate=1e-5), loss = \"categorical_crossentropy\", metrics = [\"accuracy\"])\n",
    "\n",
    "model.summary()"
   ]
  },
  {
   "cell_type": "code",
   "execution_count": 11,
   "metadata": {
    "colab": {
     "base_uri": "https://localhost:8080/"
    },
    "id": "xI8uNKE2KnxH",
    "outputId": "f5c7295b-7b84-4476-842d-018c19cee97d"
   },
   "outputs": [
    {
     "name": "stdout",
     "output_type": "stream",
     "text": [
      "Epoch 1/10\n",
      "94/94 [==============================] - 1710s 18s/step - loss: 0.1038 - accuracy: 0.9622 - val_loss: 0.0392 - val_accuracy: 0.9887\n",
      "Epoch 2/10\n",
      "94/94 [==============================] - 1762s 19s/step - loss: 0.0480 - accuracy: 0.9842 - val_loss: 0.0211 - val_accuracy: 0.9937\n",
      "Epoch 3/10\n",
      "94/94 [==============================] - 1709s 18s/step - loss: 0.0334 - accuracy: 0.9903 - val_loss: 0.0236 - val_accuracy: 0.9925\n",
      "Epoch 4/10\n",
      "94/94 [==============================] - 2159s 23s/step - loss: 0.0259 - accuracy: 0.9923 - val_loss: 0.0226 - val_accuracy: 0.9937\n",
      "Epoch 5/10\n",
      "94/94 [==============================] - 1774s 19s/step - loss: 0.0209 - accuracy: 0.9933 - val_loss: 0.0049 - val_accuracy: 0.9975\n",
      "Epoch 6/10\n",
      "94/94 [==============================] - 1840s 20s/step - loss: 0.0165 - accuracy: 0.9958 - val_loss: 0.0123 - val_accuracy: 0.9937\n",
      "Epoch 7/10\n",
      "94/94 [==============================] - 1869s 20s/step - loss: 0.0139 - accuracy: 0.9961 - val_loss: 0.0080 - val_accuracy: 0.9962\n",
      "Epoch 8/10\n",
      "94/94 [==============================] - 1784s 19s/step - loss: 0.0083 - accuracy: 0.9973 - val_loss: 0.0377 - val_accuracy: 0.9937\n",
      "Epoch 9/10\n",
      "94/94 [==============================] - 1773s 19s/step - loss: 0.0098 - accuracy: 0.9963 - val_loss: 0.0658 - val_accuracy: 0.9912\n",
      "Epoch 10/10\n",
      "94/94 [==============================] - 1912s 20s/step - loss: 0.0069 - accuracy: 0.9978 - val_loss: 0.0397 - val_accuracy: 0.9900\n"
     ]
    }
   ],
   "source": [
    "history1 = model.fit(train_generator, epochs=10, validation_data=validation_generator)"
   ]
  },
  {
   "cell_type": "code",
   "execution_count": 12,
   "metadata": {
    "colab": {
     "base_uri": "https://localhost:8080/",
     "height": 295
    },
    "id": "6lMC1gxd08pi",
    "outputId": "b766b25f-b647-413d-dd85-b75ba155b3cc"
   },
   "outputs": [
    {
     "data": {
      "image/png": "[encoded data removed]",
      "text/plain": [
       "<Figure size 432x288 with 1 Axes>"
      ]
     },
     "metadata": {
      "needs_background": "light"
     },
     "output_type": "display_data"
    }
   ],
   "source": [
    "plt.plot(history1.history['accuracy'])\n",
    "plt.plot(history1.history['val_accuracy'])\n",
    "plt.title('model accuracy')\n",
    "plt.ylabel('accuracy')\n",
    "plt.xlabel('epoch')\n",
    "plt.legend(['train', 'val'], loc='upper left')\n",
    "plt.show()"
   ]
  },
  {
   "cell_type": "code",
   "execution_count": 13,
   "metadata": {
    "colab": {
     "base_uri": "https://localhost:8080/",
     "height": 295
    },
    "id": "5IdSpnwCwzIh",
    "outputId": "c6f16689-be1c-4be0-da95-bff4362c90ab"
   },
   "outputs": [
    {
     "data": {
      "image/png": "[encoded data removed]",
      "text/plain": [
       "<Figure size 432x288 with 1 Axes>"
      ]
     },
     "metadata": {
      "needs_background": "light"
     },
     "output_type": "display_data"
    }
   ],
   "source": [
    "plt.plot(history1.history['loss'])\n",
    "plt.plot(history1.history['val_loss'])\n",
    "plt.title('model loss')\n",
    "plt.ylabel('loss')\n",
    "plt.xlabel('epoch')\n",
    "plt.legend(['train', 'val'], loc='upper left')\n",
    "plt.show()"
   ]
  },
  {
   "cell_type": "code",
   "execution_count": 14,
   "metadata": {
    "id": "_jRUHKfSj_y0"
   },
   "outputs": [],
   "source": [
    "model_json = model.to_json()\n",
    "\n",
    "# with open(\"../Model/model_json.json\", \"w\") as json_file:\n",
    "#     json_file.write(model_json)\n",
    "\n",
    "# model.save_weights(\"../Model/model_weights.h5\")\n",
    "\n",
    "# model.save('../Model/model_hdf5.hdf5')\n",
    "\n",
    "model.save(\"../Model/vgg16.h5\")"
   ]
  },
  {
   "cell_type": "code",
   "execution_count": 15,
   "metadata": {},
   "outputs": [],
   "source": [
    "correct = 0\n",
    "for i in range(800):\n",
    "    feature = test_generator[i][0]\n",
    "    label = np.argmax(np.round(test_generator[i][1]))\n",
    "    pred = np.argmax(np.round(model.predict(feature)))\n",
    "    if pred == label:\n",
    "        correct = correct + 1"
   ]
  },
  {
   "cell_type": "code",
   "execution_count": 16,
   "metadata": {},
   "outputs": [
    {
     "data": {
      "text/plain": [
       "99.25"
      ]
     },
     "execution_count": 16,
     "metadata": {},
     "output_type": "execute_result"
    }
   ],
   "source": [
    "correct * 100 / 800"
   ]
  },
  {
   "cell_type": "code",
   "execution_count": null,
   "metadata": {},
   "outputs": [],
   "source": []
  }
 ],
 "metadata": {
  "accelerator": "GPU",
  "colab": {
   "collapsed_sections": [],
   "name": "IOT Master1.ipynb",
   "provenance": []
  },
  "kernelspec": {
   "display_name": "Python 3",
   "language": "python",
   "name": "python3"
  },
  "language_info": {
   "codemirror_mode": {
    "name": "ipython",
    "version": 3
   },
   "file_extension": ".py",
   "mimetype": "text/x-python",
   "name": "python",
   "nbconvert_exporter": "python",
   "pygments_lexer": "ipython3",
   "version": "3.8.8"
  }
 },
 "nbformat": 4,
 "nbformat_minor": 1
}

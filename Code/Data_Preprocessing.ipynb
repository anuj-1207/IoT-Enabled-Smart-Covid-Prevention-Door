{
 "cells": [
  {
   "cell_type": "code",
   "execution_count": 1,
   "metadata": {},
   "outputs": [],
   "source": [
    "import os\n",
    "import numpy as np"
   ]
  },
  {
   "cell_type": "code",
   "execution_count": 2,
   "metadata": {},
   "outputs": [],
   "source": [
    "#Total\n",
    "index = list(range(1, 3726))\n",
    "#Test_Set\n",
    "idx_test = np.random.choice(index, 400, replace=False)\n",
    "#Validation_Set\n",
    "n = list(set(index).difference(set(idx_test)))\n",
    "idx_validation = np.random.choice(n, 400, replace=False)\n",
    "#Train_Set\n",
    "n = list(set(n).difference(set(idx_validation)))\n",
    "\n",
    "np.random.shuffle(n)"
   ]
  },
  {
   "cell_type": "code",
   "execution_count": 3,
   "metadata": {},
   "outputs": [
    {
     "data": {
      "text/plain": [
       "(3725, 400, 400, 2925)"
      ]
     },
     "execution_count": 3,
     "metadata": {},
     "output_type": "execute_result"
    }
   ],
   "source": [
    "len(index), len(idx_test), len(idx_validation), len(n)"
   ]
  },
  {
   "cell_type": "code",
   "execution_count": 4,
   "metadata": {},
   "outputs": [],
   "source": [
    "for i in range(400):\n",
    "    souce = \"data/with_mask/with_mask_\" + str(idx_test[i]) + \".jpg\"\n",
    "    destination = \"Dataset/Test_Set/with_mask/with_mask_\" + str(i + 1) + \".jpg\"\n",
    "    os.rename(souce, destination)\n",
    "for i in range(400):\n",
    "    souce = \"data/with_mask/with_mask_\" + str(idx_validation[i]) + \".jpg\"\n",
    "    destination = \"Dataset/Validation_Set/with_mask/with_mask_\" + str(i + 1) + \".jpg\"\n",
    "    os.rename(souce, destination)\n",
    "for i in range(2925):\n",
    "    souce = \"data/with_mask/with_mask_\" + str(n[i]) + \".jpg\"\n",
    "    destination = \"Dataset/Training_Set/with_mask/with_mask_\" + str(i + 1) + \".jpg\"\n",
    "    os.rename(souce, destination)"
   ]
  },
  {
   "cell_type": "code",
   "execution_count": 5,
   "metadata": {},
   "outputs": [],
   "source": [
    "#Total\n",
    "index = list(range(1, 3829))\n",
    "#Test_Set\n",
    "idx_test = np.random.choice(index, 400, replace=False)\n",
    "#Validation_Set\n",
    "n = list(set(index).difference(set(idx_test)))\n",
    "idx_validation = np.random.choice(n, 400, replace=False)\n",
    "#Train_Set\n",
    "n = list(set(n).difference(set(idx_validation)))\n",
    "\n",
    "np.random.shuffle(n)"
   ]
  },
  {
   "cell_type": "code",
   "execution_count": 6,
   "metadata": {},
   "outputs": [
    {
     "data": {
      "text/plain": [
       "(3828, 400, 400, 3028)"
      ]
     },
     "execution_count": 6,
     "metadata": {},
     "output_type": "execute_result"
    }
   ],
   "source": [
    "len(index), len(idx_test), len(idx_validation), len(n)"
   ]
  },
  {
   "cell_type": "code",
   "execution_count": 7,
   "metadata": {},
   "outputs": [],
   "source": [
    "for i in range(400):\n",
    "    souce = \"data/without_mask/without_mask_\" + str(idx_test[i]) + \".jpg\"\n",
    "    destination = \"Dataset/Test_Set/without_mask/without_mask_\" + str(i + 1) + \".jpg\"\n",
    "    os.rename(souce, destination)\n",
    "for i in range(400):\n",
    "    souce = \"data/without_mask/without_mask_\" + str(idx_validation[i]) + \".jpg\"\n",
    "    destination = \"Dataset/Validation_Set/without_mask/without_mask_\" + str(i + 1) + \".jpg\"\n",
    "    os.rename(souce, destination)\n",
    "for i in range(3028):\n",
    "    souce = \"data/without_mask/without_mask_\" + str(n[i]) + \".jpg\"\n",
    "    destination = \"Dataset/Training_Set/without_mask/without_mask_\" + str(i + 1) + \".jpg\"\n",
    "    os.rename(souce, destination)"
   ]
  }
 ],
 "metadata": {
  "kernelspec": {
   "display_name": "Python 3",
   "language": "python",
   "name": "python3"
  },
  "language_info": {
   "codemirror_mode": {
    "name": "ipython",
    "version": 3
   },
   "file_extension": ".py",
   "mimetype": "text/x-python",
   "name": "python",
   "nbconvert_exporter": "python",
   "pygments_lexer": "ipython3",
   "version": "3.8.8"
  }
 },
 "nbformat": 4,
 "nbformat_minor": 2
}
